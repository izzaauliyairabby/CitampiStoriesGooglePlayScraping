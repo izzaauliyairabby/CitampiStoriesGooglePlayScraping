{
  "nbformat": 4,
  "nbformat_minor": 0,
  "metadata": {
    "colab": {
      "private_outputs": true,
      "provenance": [],
      "gpuType": "T4"
    },
    "kernelspec": {
      "name": "python3",
      "display_name": "Python 3"
    },
    "language_info": {
      "name": "python"
    },
    "accelerator": "GPU"
  },
  "cells": [
    {
      "cell_type": "markdown",
      "source": [
        "# Scraping Datasets Citampi Stories di Google Playstore\n",
        "\n"
      ],
      "metadata": {
        "id": "1EqjOuigTDLi"
      }
    },
    {
      "cell_type": "code",
      "source": [
        "## Install Google Play Scraper\n",
        "!pip install google-play-scraper"
      ],
      "metadata": {
        "id": "SX2PRYiETQ08"
      },
      "execution_count": null,
      "outputs": []
    },
    {
      "cell_type": "code",
      "source": [
        "# Import Packages\n",
        "import os\n",
        "from google_play_scraper import app\n",
        "import numpy as np\n",
        "import pandas as pd\n",
        "import matplotlib.pyplot as plt\n",
        "import tensorflow as tf"
      ],
      "metadata": {
        "id": "h77MzBLMTYfd"
      },
      "execution_count": null,
      "outputs": []
    },
    {
      "cell_type": "markdown",
      "source": [
        "## Scraping menggunakan Google Play Scraper"
      ],
      "metadata": {
        "id": "Z8fFRqiCpYWV"
      }
    },
    {
      "cell_type": "code",
      "source": [
        "from google_play_scraper import Sort, reviews_all\n",
        "\n",
        "# Fething Seluruh data Citampi Stories dari Playstore\n",
        "result = reviews_all(\n",
        "    'com.ikanasinproduction.cintadicitampi',  # Link Aplikasi\n",
        "    lang='id',                                # Bahasa Reviews\n",
        "    country='id',                             # Negara Reviews\n",
        "    count = 10000,                            # Maks 10000\n",
        "    sort=Sort.MOST_RELEVANT,                  # Mengurutkan Review berdasarkan yang paling relevant\n",
        "    filter_score_with=None                    # Tidak Mengurutkan Review berdasarkan Rating\n",
        ")\n",
        "\n",
        "# Menampilkan Hasil Scraping\n",
        "print(result)"
      ],
      "metadata": {
        "id": "pssJMyyyUb1_"
      },
      "execution_count": null,
      "outputs": []
    },
    {
      "cell_type": "code",
      "source": [
        "# Slicing data, membatasi hingga 10000 data saja\n",
        "if len(result) > 10000:\n",
        "    result = result[:10000]\n",
        "\n",
        "# Check Nomor Fething Secara Total\n",
        "print(f\"Number of reviews fetched: {len(result)}\")"
      ],
      "metadata": {
        "id": "d5W62KsThi_y"
      },
      "execution_count": null,
      "outputs": []
    },
    {
      "cell_type": "code",
      "source": [
        "dataframe = pd.DataFrame(result)\n",
        "dataframe.head(100)"
      ],
      "metadata": {
        "id": "qFs-4G8lY6-u"
      },
      "execution_count": null,
      "outputs": []
    },
    {
      "cell_type": "code",
      "source": [
        "# Membatasi dataframe hanya dengan username, content, score, at, appversion\n",
        "\n",
        "# Select only the desired columns\n",
        "dataframe = dataframe[['userName','content', 'score', 'at', 'appVersion']]\n",
        "dataframe.head(100)"
      ],
      "metadata": {
        "id": "5mpizhISmdye"
      },
      "execution_count": null,
      "outputs": []
    },
    {
      "cell_type": "markdown",
      "source": [
        "## Pelabelan Data\n"
      ],
      "metadata": {
        "id": "TSYW97FbpQvM"
      }
    },
    {
      "cell_type": "code",
      "source": [
        "# Fungsi untuk melabelkan data berdasarkan score\n",
        "def dataframe_labeled(df):\n",
        "    # Menambahkan kolom baru 'label' berdasarkan kondisi score\n",
        "    df['label'] = df['score'].apply(lambda x: 'negatif' if x < 3 else ('netral' if x == 3 else 'positif'))\n",
        "\n",
        "    # Memilih kolom 'content', 'score', dan 'at' saja\n",
        "    df_filtered = df[['content', 'score', 'at', 'label']]\n",
        "\n",
        "    # Mengurutkan dari rating tertinggi ke terendah\n",
        "    df_sorted = df_filtered.sort_values(by='score', ascending=False)\n",
        "\n",
        "    # Menampilkan 100 baris pertama dari DataFrame yang diurutkan\n",
        "    return df_sorted.head(100)\n",
        "\n",
        "# Contoh penggunaan dengan data scraping yang telah Anda miliki\n",
        "# Misalnya 'result' adalah data yang Anda dapat dari scraping\n",
        "\n",
        "# Mengonversi ke DataFrame\n",
        "app_reviews_df = pd.DataFrame(result)\n",
        "\n",
        "# Memanggil fungsi untuk melabelkan dan menampilkan hasil\n",
        "labeled_reviews = dataframe_labeled(app_reviews_df)\n",
        "\n",
        "# Menampilkan hasil\n",
        "print(labeled_reviews)"
      ],
      "metadata": {
        "id": "Q8dOS2A1oQav"
      },
      "execution_count": null,
      "outputs": []
    },
    {
      "cell_type": "markdown",
      "source": [
        "## Konversi Dataframe ke CSV Files"
      ],
      "metadata": {
        "id": "SBqyX0C9tGeS"
      }
    },
    {
      "cell_type": "code",
      "source": [
        "# Menyimpan CSV\n",
        "from google.colab import files\n",
        "labeled_reviews.to_csv('citampistoriesscraping.csv', index=False)\n",
        "files.download('citampistoriesscraping.csv')"
      ],
      "metadata": {
        "id": "VULMytCqtMbm"
      },
      "execution_count": null,
      "outputs": []
    }
  ]
}